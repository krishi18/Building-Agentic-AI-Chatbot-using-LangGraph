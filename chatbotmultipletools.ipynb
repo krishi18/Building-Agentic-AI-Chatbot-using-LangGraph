{
 "cells": [
  {
   "cell_type": "code",
   "execution_count": 2,
   "metadata": {},
   "outputs": [],
   "source": [
    "## tools\n",
    "\n",
    "from langchain_community.tools import ArxivQueryRun, WikipediaQueryRun\n",
    "from langchain_community.utilities import WikipediaAPIWrapper, ArxivAPIWrapper"
   ]
  },
  {
   "cell_type": "code",
   "execution_count": 7,
   "metadata": {},
   "outputs": [
    {
     "name": "stdout",
     "output_type": "stream",
     "text": [
      "arxiv\n"
     ]
    }
   ],
   "source": [
    "# Creating one of the tools - arxiv\n",
    "api_wrapper_arxiv=ArxivAPIWrapper(top_k_results=2,doc_content_chars_max=500)\n",
    "arxiv=ArxivQueryRun(api_wrapper=api_wrapper_arxiv, description=\"Query arxiv papers\")\n",
    "print(arxiv.name)"
   ]
  },
  {
   "cell_type": "code",
   "execution_count": 4,
   "metadata": {},
   "outputs": [
    {
     "data": {
      "text/plain": [
       "\"Published: 2024-07-22\\nTitle: Attention Is All You Need But You Don't Need All Of It For Inference of Large Language Models\\nAuthors: Georgy Tyukin, Gbetondji J-S Dovonon, Jean Kaddour, Pasquale Minervini\\nSummary: The inference demand for LLMs has skyrocketed in recent months, and serving\\nmodels with low latencies remains challenging due to the quadratic input length\\ncomplexity of the attention layers. In this work, we investigate the effect of\\ndropping MLP and attention layers at inference time on the performance of\\nLlama-v2 models. We find that dropping dreeper attention layers only marginally\\ndecreases performance but leads to the best speedups alongside dropping entire\\nlayers. For example, removing 33\\\\% of attention layers in a 13B Llama2 model\\nresults in a 1.8\\\\% drop in average performance over the OpenLLM benchmark. We\\nalso observe that skipping layers except the latter layers reduces performances\\nfor more layers skipped, except for skipping the attention layers.\\n\\nPublished: 2021-07-16\\nTitle: All the attention you need: Global-local, spatial-channel attention for image retrieval\\nAuthors: Chull Hwan Song, Hye Joo Han, Yannis Avrithis\\nSummary: We address representation learning for large-scale instance-level image\\nretrieval. Apart from backbone, training pipelines and loss functions, popular\\napproaches have focused on different spatial pooling and attention mechanisms,\\nwhich are at the core of learning a powerful global image representation. There\\nare different forms of attention according to the interaction of elements of\\nthe feature tensor (local and global) and the dimensions where it is applied\\n(spatial and channel). Unfortunately, each study addresses only one or two\\nforms of attention and applies it to different problems like classification,\\ndetection or retrieval.\\n  We present global-local attention module (GLAM), which is attached at the end\\nof a backbone network and incorporates all four forms of attention: local and\\nglobal, spatial and channel. We obtain a new feature tensor and, by spatial\\npooling, we learn a powerful embedding for image retrieval. Focusing on global\\ndescriptors, we provide empirical evidence of the interaction of all forms of\\nattention and improve the state of the art on standard benchmarks.\\n\\nPublished: 2023-06-02\\nTitle: RITA: Group Attention is All You Need for Timeseries Analytics\\nAuthors: Jiaming Liang, Lei Cao, Samuel Madden, Zachary Ives, Guoliang Li\\nSummary: Timeseries analytics is of great importance in many real-world applications.\\nRecently, the Transformer model, popular in natural language processing, has\\nbeen leveraged to learn high quality feature embeddings from timeseries, core\\nto the performance of various timeseries analytics tasks. However, the\\nquadratic time and space complexities limit Transformers' scalability,\\nespecially for long timeseries. To address these issues, we develop a\\ntimeseries analytics tool, RITA, which uses a novel attention mechanism, named\\ngroup attention, to address this scalability issue. Group attention dynamically\\nclusters the objects based on their similarity into a small number of groups\\nand approximately computes the attention at the coarse group granularity. It\\nthus significantly reduces the time and space complexity, yet provides a\\ntheoretical guarantee on the quality of the computed attention. The dynamic\\nscheduler of RITA continuously adapts the number of groups and the batch size\\nin the training process, ensuring group attention always uses the fewest groups\\nneeded to meet the approximation quality requirement. Extensive experiments on\\nvarious timeseries datasets and analytics tasks demonstrate that RITA\\noutperforms the state-of-the-art in accuracy and is significantly faster --\\nwith speedups of up to 63X.\""
      ]
     },
     "execution_count": 4,
     "metadata": {},
     "output_type": "execute_result"
    }
   ],
   "source": [
    "arxiv.invoke(\"Attention is all you need\")"
   ]
  },
  {
   "cell_type": "code",
   "execution_count": 8,
   "metadata": {},
   "outputs": [],
   "source": [
    "# Creating one of the tools - wikipedia\n",
    "api_wrapper_wiki=WikipediaAPIWrapper(top_k_results=2,doc_content_chars_max=500)\n",
    "wiki=WikipediaQueryRun(api_wrapper=api_wrapper_wiki)"
   ]
  },
  {
   "cell_type": "code",
   "execution_count": 9,
   "metadata": {},
   "outputs": [
    {
     "data": {
      "text/plain": [
       "'wikipedia'"
      ]
     },
     "execution_count": 9,
     "metadata": {},
     "output_type": "execute_result"
    }
   ],
   "source": [
    "wiki.name"
   ]
  },
  {
   "cell_type": "code",
   "execution_count": 11,
   "metadata": {},
   "outputs": [],
   "source": [
    "# integrating both tools to my workflow\n",
    "\n",
    "from dotenv import load_dotenv\n",
    "load_dotenv()\n",
    "\n",
    "import os\n",
    "\n",
    "os.environ['TAVILY_API_KEY'] = os.getenv(\"TAVILY_API_KEY\")\n",
    "os.environ['GROQ_API_KEY'] = os.getenv(\"GROQ_API_KEY\")\n"
   ]
  },
  {
   "cell_type": "code",
   "execution_count": 13,
   "metadata": {},
   "outputs": [],
   "source": [
    "# Tavily Search Tool\n",
    "from langchain_community.tools.tavily_search import TavilySearchResults\n",
    "tavily = TavilySearchResults()"
   ]
  },
  {
   "cell_type": "code",
   "execution_count": 14,
   "metadata": {},
   "outputs": [
    {
     "data": {
      "text/plain": [
       "[{'title': 'AI News | Latest AI News, Analysis & Events',\n",
       "  'url': 'https://www.artificialintelligence-news.com/',\n",
       "  'content': 'AI News reports on the latest artificial intelligence news and insights. Explore industry trends from the frontline of AI.',\n",
       "  'score': 0.72814995},\n",
       " {'title': 'Artificial Intelligence - Latest AI News and Analysis - WSJ.com',\n",
       "  'url': 'https://www.wsj.com/tech/ai',\n",
       "  'content': 'The latest artificial intelligence news coverage focusing on the technology, tools and the companies building AI technology.',\n",
       "  'score': 0.6917478},\n",
       " {'title': 'Latest AI news and blog posts - Google AI',\n",
       "  'url': 'https://ai.google/latest-news/',\n",
       "  'content': 'Tackling the most challenging problems in computer science\\n\\nFrontier AI\\n\\nBuilding the future of AI-powered products and scientific discovery\\n\\nFoundational ML\\n\\nExploring theory and application of ML in language, speech and more\\n\\nHealth\\n\\nTransforming healthcare and medicine with AI\\n\\nQuantum AI\\n\\nBuilding best-in-class quantum computing\\n\\nScience\\n\\nEnabling scientific innovation in biology, chemistry, physics, and earth science\\n\\nSustainability\\n\\nDriving sustainable innovation through technology [...] Our most intelligent AI models\\n\\nOur state-of-the-art open models\\n\\nOur state-of-the-art text-to-video model\\n\\nOur highest quality text-to-image model\\n\\nOur latest text-to-audio model\\n\\nCode with AI assistance\\n\\nAccelerate development with integrated AI code assistance\\n\\nTackling the most challenging problems in computer science\\n\\nTackling the most challenging problems in computer science\\n\\nFrontier AI\\n\\nBuilding the future of AI-powered products and scientific discovery\\n\\nFoundational ML [...] Exploring theory and application of ML in language, speech and more\\n\\nHealth\\n\\nTransforming healthcare and medicine with AI\\n\\nQuantum AI\\n\\nBuilding best-in-class quantum computing\\n\\nScience\\n\\nEnabling scientific innovation in biology, chemistry, physics, and earth science\\n\\nSustainability\\n\\nDriving sustainable innovation through technology\\n\\nWeâ\\x80\\x99re building and deploying AI responsibly\\n\\nWeâ\\x80\\x99re building and deploying AI responsibly\\n\\nResponsibility and safety',\n",
       "  'score': 0.6747586},\n",
       " {'title': 'Artificial Intelligence - AI News - Reuters',\n",
       "  'url': 'https://www.reuters.com/technology/artificial-intelligence/',\n",
       "  'content': 'Artificial Intelligence\\n\\nHow Artificial Intelligence is creating the next normal\\n\\nArtificial intelligence lab Anthropic unveiled its latest top-of-the-line technology called Claude Opus 4 on Thursday, which it says can write computer code autonomously for much longer than its prior systems.\\n\\n\\n\\nEvent\\n\\n28-29 Apr 2025 · New York, USA\\n\\nEvent\\n\\n15-16 Jul 2025 · San Jose, USA\\n\\nEvent\\n\\n17 Sep 2025 · Singapore, USA\\n\\nEvent\\n\\n29-30 Sep 2025 · London, UK\\n\\nSponsored Content\\n\\nMore Coverage\\n\\nSite Index\\n\\nBrowse',\n",
       "  'score': 0.6607204},\n",
       " {'title': 'AI News & Artificial Intelligence | TechCrunch',\n",
       "  'url': 'https://techcrunch.com/category/artificial-intelligence/',\n",
       "  'content': 'Topics\\n\\nLatest\\n\\nAI\\n\\nAmazon\\n\\nApps\\n\\nBiotech & Health\\n\\nClimate\\n\\nCloud Computing\\n\\nCommerce\\n\\nCrypto\\n\\nEnterprise\\n\\nEVs\\n\\nFintech\\n\\nFundraising\\n\\nGadgets\\n\\nGaming\\n\\nGoogle\\n\\nGovernment & Policy\\n\\nHardware\\n\\nInstagram\\n\\nLayoffs\\n\\nMedia & Entertainment\\n\\nMeta\\n\\nMicrosoft\\n\\nPrivacy\\n\\nRobotics\\n\\nSecurity\\n\\nSocial\\n\\nSpace\\n\\nStartups\\n\\nTikTok\\n\\nTransportation\\n\\nVenture\\n\\nMore from TechCrunch\\n\\nEvents\\n\\nStartup Battlefield\\n\\nStrictlyVC\\n\\nNewsletters\\n\\nPodcasts\\n\\nVideos\\n\\nPartner Content\\n\\nTechCrunch Brand Studio\\n\\nCrunchboard\\n\\nContact Us [...] Shopify launches an AI-powered store builder as part of its latest update\\n\\nUber Freight bets big on AI tools to grow its business\\n\\nGoogle’s Sergey Brin: ‘I made a lot of mistakes with Google Glass’\\n\\nThe latest Google Gemma AI model can run on phones\\n\\nGoogle commits $150M to develop AI glasses with Warby Parker\\n\\nLast week: Exhibit your startup at TechCrunch Sessions AI\\n\\nIntel is reportedly exploring a sale for its networking and edge unit [...] Meta launches program to encourage startups to use its Llama AI models\\n\\nTensions flare between the US and China over Huawei’s AI chips\\n\\nAmazon rolls out short-form AI-powered audio product summaries for select items\\n\\nGoogle is bringing ads to AI Mode\\n\\nMistral’s new Devstral AI model was designed for coding\\n\\nGoogle’s AI agents will bring you the web now\\n\\nTechCrunch Sessions: AI welcomes Tanka CEO Kisson Lin to talk AI-native startups\\n\\nTechCrunch Disrupt 2025 Early Bird savings end on May 25',\n",
       "  'score': 0.6238588}]"
      ]
     },
     "execution_count": 14,
     "metadata": {},
     "output_type": "execute_result"
    }
   ],
   "source": [
    "tavily.invoke(\"Provide me the latest AI news?\")"
   ]
  },
  {
   "cell_type": "code",
   "execution_count": 15,
   "metadata": {},
   "outputs": [],
   "source": [
    "# Combine all the 3 tools in the list\n",
    "tools = [arxiv, wiki, tavily]"
   ]
  },
  {
   "cell_type": "code",
   "execution_count": 18,
   "metadata": {},
   "outputs": [],
   "source": [
    "# Initialize LLM model \n",
    "from langchain_groq import ChatGroq\n",
    "\n",
    "llm = ChatGroq( model = \"qwen-qwq-32b\")"
   ]
  },
  {
   "cell_type": "code",
   "execution_count": 19,
   "metadata": {},
   "outputs": [
    {
     "data": {
      "text/plain": [
       "AIMessage(content='\\n<think>\\nOkay, so I need to explain what AI is. Let me start by recalling what I know. AI stands for Artificial Intelligence. I think it\\'s when machines can perform tasks that usually require human intelligence. But wait, what exactly does that mean? Maybe I should break it down into parts.\\n\\nFirst, the basics. AI is a branch of computer science. The goal is to create systems that can perform tasks that typically demand human intelligence. Examples might include things like recognizing speech, making decisions, solving problems, learning from data. But I should make sure I don\\'t confuse AI with just any computer program. There\\'s a difference between traditional software and AI. Traditional software follows predefined rules, while AI can adapt and learn from experience. Hmm, so machine learning is a subset of AI, right?\\n\\nI should mention different types of AI. Maybe there\\'s a distinction between narrow or weak AI and general or strong AI. Narrow AI is designed for specific tasks, like voice assistants or recommendation systems. General AI would be more human-like, able to handle any intellectual task a human can. But I think general AI is still theoretical; we don\\'t have that yet.\\n\\nApplications are important too. Examples like Apple\\'s Siri, Amazon\\'s Alexa for voice recognition. Self-driving cars use AI for navigation. In healthcare, AI can help diagnose diseases. Maybe image recognition in X-rays. Also, in finance for fraud detection. These examples make it more concrete.\\n\\nHow does AI work? It often involves algorithms that process data. Machine learning uses statistical methods to improve performance over time. Deep learning is a subset of ML using neural networks with many layers. Neural networks are inspired by the human brain, but I should clarify that they are simplified models.\\n\\nI should also touch on limitations and ethical considerations. AI isn\\'t perfect; it can have biases if trained on biased data. There are privacy issues with data collection. Job displacement concerns, ethical dilemmas in decision-making like in autonomous vehicles.\\n\\nWait, maybe start with a simple definition, then expand. Make sure to cover the key points: definition, types, how it works, applications, and challenges. Avoid getting too technical but still accurate. Also, mention the difference between AI, machine learning, and deep learning to prevent confusion.\\n\\nLet me check if I missed anything. The history? Maybe not necessary unless it\\'s important. The user just asked \"what is AI?\" so focus on explanation rather than history. But maybe a brief mention of the field\\'s goals.\\n\\nAlso, common misconceptions. People might think AI is sentient, but currently it\\'s all about algorithms. It\\'s important to clarify that AI doesn\\'t have consciousness, just the appearance of intelligence.\\n\\nOkay, putting it all together in a structured way. Start with a definition, then break down the components. Maybe use bullet points or sections, but since the user wants a paragraph, I\\'ll need to flow it smoothly.\\n</think>\\n\\nArtificial Intelligence (AI) refers to the simulation of human intelligence in machines, designed to perform tasks that typically require human cognition, such as learning, problem-solving, decision-making, and perception. Here\\'s a structured breakdown:\\n\\n1. **Definition & Scope**:  \\n   AI is a branch of computer science focused on creating systems that can perceive their environment, learn from data, reason, and take actions to achieve specific goals. Unlike traditional software, which follows rigid, predefined instructions, AI systems can adapt through experience, often using algorithms and statistical models.\\n\\n2. **Types of AI**:  \\n   - **Narrow (Weak) AI**: Specializes in performing specific tasks. Examples include voice assistants (e.g., Siri, Alexa), recommendation systems (e.g., Netflix, Spotify), and facial recognition.  \\n   - **General (Strong) AI**: A theoretical concept where AI would possess human-like cognitive abilities across multiple domains, enabling it to solve any intellectual task. This remains hypothetical, though researchers aim to develop it.\\n\\n3. **Core Technologies**:  \\n   - **Machine Learning (ML)**: A subset of AI where systems learn patterns from data to improve performance without explicit programming. Techniques include supervised, unsupervised, and reinforcement learning.  \\n   - **Deep Learning**: A specialized ML method using neural networks with many layers (deep neural networks) to process complex data like images, speech, or text (e.g., self-driving cars, chatbots).  \\n   - **Natural Language Processing (NLP)**: Enables machines to understand and generate human language (e.g., chatbots, translation tools).  \\n\\n4. **Applications**:  \\n   - **Healthcare**: Diagnostic tools, drug discovery, and personalized treatment plans.  \\n   - **Transportation**: Autonomous vehicles and route optimization.  \\n   - **Finance**: Fraud detection, algorithmic trading, and risk assessment.  \\n   - **Entertainment**: Content recommendations, virtual assistants, and game AI.  \\n\\n5. **How It Works**:  \\n   AI systems rely on **data**, **algorithms**, and **computational power**. They analyze large datasets to identify patterns, make predictions, or generate outputs. For instance, a recommendation system uses user behavior data to suggest products, while a self-driving car processes sensor data in real time to navigate.\\n\\n6. **Limitations & Challenges**:  \\n   - **Bias and Fairness**: AI can perpetuate biases if trained on skewed data (e.g., racial or gender biases in facial recognition).  \\n   - **Ethical Concerns**: Issues like privacy (data misuse), job displacement, and accountability for AI decisions (e.g., in healthcare or criminal justice).  \\n   - **Transparency**: \"Black box\" models (like deep neural networks) can be difficult to interpret, raising questions about trust and reliability.  \\n\\n7. **Misconceptions**:  \\n   - **Sentience vs. Simulation**: Current AI lacks consciousness or self-awareness; it mimics intelligence through algorithms.  \\n   - **Autonomy**: While AI can perform tasks independently, its decisions are based on programming and data, not independent thought.  \\n\\nIn summary, AI is a transformative technology that enhances efficiency and innovation across industries, but its development requires addressing ethical, technical, and societal challenges to ensure responsible and beneficial use.', additional_kwargs={}, response_metadata={'token_usage': {'completion_tokens': 1255, 'prompt_tokens': 14, 'total_tokens': 1269, 'completion_time': 3.08288924, 'prompt_time': 0.002883563, 'queue_time': 0.24220714499999998, 'total_time': 3.085772803}, 'model_name': 'qwen-qwq-32b', 'system_fingerprint': 'fp_512a3da6bb', 'finish_reason': 'stop', 'logprobs': None}, id='run--8c05b61f-769c-441e-ae00-203bdd0d2e60-0', usage_metadata={'input_tokens': 14, 'output_tokens': 1255, 'total_tokens': 1269})"
      ]
     },
     "execution_count": 19,
     "metadata": {},
     "output_type": "execute_result"
    }
   ],
   "source": [
    "llm.invoke(\"What is AI?\")"
   ]
  },
  {
   "cell_type": "code",
   "execution_count": 20,
   "metadata": {},
   "outputs": [],
   "source": [
    "# binding LLM with these tools i.e LLM will have info from these tools\n",
    "\n",
    "llm_with_tools = llm.bind_tools(tools=tools)"
   ]
  },
  {
   "cell_type": "code",
   "execution_count": 21,
   "metadata": {},
   "outputs": [
    {
     "data": {
      "text/plain": [
       "AIMessage(content='', additional_kwargs={'tool_calls': [{'id': 'call_g36k', 'function': {'arguments': '{\"query\":\"recent news on AI\"}', 'name': 'tavily_search_results_json'}, 'type': 'function'}]}, response_metadata={'token_usage': {'completion_tokens': 201, 'prompt_tokens': 356, 'total_tokens': 557, 'completion_time': 0.490973563, 'prompt_time': 0.030835558, 'queue_time': 0.25020448700000003, 'total_time': 0.521809121}, 'model_name': 'qwen-qwq-32b', 'system_fingerprint': 'fp_1e88ca32eb', 'finish_reason': 'tool_calls', 'logprobs': None}, id='run--135e859b-b89c-4200-bfb1-d8f6302e6d62-0', tool_calls=[{'name': 'tavily_search_results_json', 'args': {'query': 'recent news on AI'}, 'id': 'call_g36k', 'type': 'tool_call'}], usage_metadata={'input_tokens': 356, 'output_tokens': 201, 'total_tokens': 557})"
      ]
     },
     "execution_count": 21,
     "metadata": {},
     "output_type": "execute_result"
    }
   ],
   "source": [
    "# Execute this call\n",
    "llm_with_tools.invoke(\"What is the recent news on AI?\")"
   ]
  },
  {
   "cell_type": "markdown",
   "metadata": {},
   "source": [
    "#### Inference: Upon invoking the LLM, it knows that this latest info needs to be looked on the net and hence calls the Tavily search (its tools) instead of hallucinating or providing the wrong info. Thus appropriate tool call is made"
   ]
  },
  {
   "cell_type": "markdown",
   "metadata": {},
   "source": [
    "###### Now entire AI Assistant is ready, need to create entire application in LangGraph and the LangGraph will be doing the specific task"
   ]
  },
  {
   "cell_type": "code",
   "execution_count": 22,
   "metadata": {},
   "outputs": [
    {
     "data": {
      "text/plain": [
       "AIMessage(content='', additional_kwargs={'tool_calls': [{'id': 'call_yft5', 'function': {'arguments': '{\"query\":\"machine learning\"}', 'name': 'wikipedia'}, 'type': 'function'}]}, response_metadata={'token_usage': {'completion_tokens': 237, 'prompt_tokens': 353, 'total_tokens': 590, 'completion_time': 0.586526555, 'prompt_time': 0.024263094, 'queue_time': 0.248169702, 'total_time': 0.610789649}, 'model_name': 'qwen-qwq-32b', 'system_fingerprint': 'fp_1e88ca32eb', 'finish_reason': 'tool_calls', 'logprobs': None}, id='run--8dd6cf85-3e80-48a1-97ec-f4889d3ca90d-0', tool_calls=[{'name': 'wikipedia', 'args': {'query': 'machine learning'}, 'id': 'call_yft5', 'type': 'tool_call'}], usage_metadata={'input_tokens': 353, 'output_tokens': 237, 'total_tokens': 590})"
      ]
     },
     "execution_count": 22,
     "metadata": {},
     "output_type": "execute_result"
    }
   ],
   "source": [
    "# Execute this call\n",
    "llm_with_tools.invoke(\"What is machine learning?\")"
   ]
  },
  {
   "cell_type": "markdown",
   "metadata": {},
   "source": [
    "## Workflow"
   ]
  },
  {
   "cell_type": "code",
   "execution_count": null,
   "metadata": {},
   "outputs": [],
   "source": [
    "## State schema\n",
    "from typing_extensions import TypedDict\n",
    "from langchain_core.messages import AnyMessage # Human or AI message\n",
    "from typing import Annotated # for labelling\n",
    "from langgraph.graph.message import add_messages # reducers in langgraph (append instead of overriding the variable)"
   ]
  },
  {
   "cell_type": "code",
   "execution_count": 24,
   "metadata": {},
   "outputs": [],
   "source": [
    "class State(TypedDict):\n",
    "    messages: Annotated[list[AnyMessage], add_messages]\n",
    "    "
   ]
  },
  {
   "cell_type": "code",
   "execution_count": 25,
   "metadata": {},
   "outputs": [],
   "source": [
    "# Entire Chatbot with Langgraph\n",
    "from IPython.display import Image,display\n",
    "from langgraph.graph import StateGraph, START, END\n",
    "from langgraph.prebuilt import ToolNode\n",
    "from langgraph.prebuilt import tools_condition # i.e when to call the tool node: if llm is calling a tool, what path to take and if not, then what path to take"
   ]
  },
  {
   "cell_type": "code",
   "execution_count": 26,
   "metadata": {},
   "outputs": [
    {
     "data": {
      "text/plain": [
       "<langgraph.graph.state.StateGraph at 0x20eae696450>"
      ]
     },
     "execution_count": 26,
     "metadata": {},
     "output_type": "execute_result"
    }
   ],
   "source": [
    "# Defining first node definition\n",
    "def tool_calling_llm(state:State):\n",
    "    return {\"messages\":[llm_with_tools.invoke(state[\"messages\"])]}\n",
    "\n",
    "# Build graph\n",
    "builder = StateGraph(State)\n",
    "builder.add_node('tool_calling_llm', tool_calling_llm)\n",
    "builder.add_node(\"tools\", ToolNode(tools))"
   ]
  },
  {
   "cell_type": "code",
   "execution_count": 27,
   "metadata": {},
   "outputs": [
    {
     "data": {
      "text/plain": [
       "<langgraph.graph.state.StateGraph at 0x20eae696450>"
      ]
     },
     "execution_count": 27,
     "metadata": {},
     "output_type": "execute_result"
    }
   ],
   "source": [
    "# adding edges\n",
    "builder.add_edge(START, \"tool_calling_llm\")\n",
    "builder.add_conditional_edges(\n",
    "    \"tool_calling_llm\",\n",
    "    #condition: if result(latest message) from assistant is a tool call, then tools_condition routes to tools\n",
    "    # else, tools_condition routes to END\n",
    "    tools_condition # default\n",
    ")\n",
    "builder.add_edge(\"tools\", END)"
   ]
  },
  {
   "cell_type": "code",
   "execution_count": 34,
   "metadata": {},
   "outputs": [
    {
     "data": {
      "image/png": "[encoded data removed]",
      "text/plain": [
       "<IPython.core.display.Image object>"
      ]
     },
     "metadata": {},
     "output_type": "display_data"
    }
   ],
   "source": [
    "# compile\n",
    "graph = builder.compile()\n",
    "\n",
    "# View\n",
    "display(Image(graph.get_graph().draw_mermaid_png()))\n"
   ]
  },
  {
   "cell_type": "code",
   "execution_count": 35,
   "metadata": {},
   "outputs": [
    {
     "name": "stdout",
     "output_type": "stream",
     "text": [
      "================================\u001b[1m Human Message \u001b[0m=================================\n",
      "\n",
      "1706.03762\n",
      "==================================\u001b[1m Ai Message \u001b[0m==================================\n",
      "Tool Calls:\n",
      "  arxiv (call_dbjh)\n",
      " Call ID: call_dbjh\n",
      "  Args:\n",
      "    query: 1706.03762\n",
      "=================================\u001b[1m Tool Message \u001b[0m=================================\n",
      "Name: arxiv\n",
      "\n",
      "Published: 2023-08-02\n",
      "Title: Attention Is All You Need\n",
      "Authors: Ashish Vaswani, Noam Shazeer, Niki Parmar, Jakob Uszkoreit, Llion Jones, Aidan N. Gomez, Lukasz Kaiser, Illia Polosukhin\n",
      "Summary: The dominant sequence transduction models are based on complex recurrent or\n",
      "convolutional neural networks in an encoder-decoder configuration. The best\n",
      "performing models also connect the encoder and decoder through an attention\n",
      "mechanism. We propose a new simple network architecture, the Transformer, base\n"
     ]
    }
   ],
   "source": [
    "\n",
    "messages=graph.invoke({\"messages\": \"1706.03762\"})\n",
    "for m in messages['messages']:\n",
    "    m.pretty_print()"
   ]
  },
  {
   "cell_type": "markdown",
   "metadata": {},
   "source": [
    "#### Output inference: Human message is input, AI message is from the tool calling LLM,  Tool message gives the required output"
   ]
  },
  {
   "cell_type": "code",
   "execution_count": null,
   "metadata": {},
   "outputs": [
    {
     "name": "stdout",
     "output_type": "stream",
     "text": [
      "================================\u001b[1m Human Message \u001b[0m=================================\n",
      "\n",
      "Hi I am krishi. how are you?\n",
      "==================================\u001b[1m Ai Message \u001b[0m==================================\n",
      "\n",
      "Hello Krishi! I'm doing well, thank you for asking! 😊 How can I assist you today?\n"
     ]
    }
   ],
   "source": [
    "messages=graph.invoke({\"messages\": \"Hi I am krishi. how are you?\"})\n",
    "for m in messages['messages']:\n",
    "    m.pretty_print()"
   ]
  },
  {
   "cell_type": "code",
   "execution_count": null,
   "metadata": {},
   "outputs": [
    {
     "name": "stdout",
     "output_type": "stream",
     "text": [
      "================================\u001b[1m Human Message \u001b[0m=================================\n",
      "\n",
      "Tell me some recent news on AI and also give me some papers on quantum computing\n",
      "==================================\u001b[1m Ai Message \u001b[0m==================================\n",
      "Tool Calls:\n",
      "  tavily_search_results_json (call_c379)\n",
      " Call ID: call_c379\n",
      "  Args:\n",
      "    query: latest news on AI\n",
      "  arxiv (call_3s2q)\n",
      " Call ID: call_3s2q\n",
      "  Args:\n",
      "    query: quantum computing\n",
      "=================================\u001b[1m Tool Message \u001b[0m=================================\n",
      "Name: tavily_search_results_json\n",
      "\n",
      "[{\"title\": \"Latest AI Breakthroughs and News: April- May 2025 - Crescendo.ai\", \"url\": \"https://www.crescendo.ai/news/latest-ai-news-and-updates\", \"content\": \"The Fresh and Interesting Artificial Intelligence News\\n\\nHere are all the impactful and latest AI breakthroughs that are shaping the world around us.Â\\n\\nUS Tech Giants Face New Challenge as Alibaba's Qwen3 Narrows the AI Gap\\n\\nDate: May 5, 2025Summary: Alibabaâs latest AI model, Qwen3, significantly narrows the technology gap with leading US firms. Qwen3's advancements in cost efficiency and multilingual capabilities position it as a competitive alternative for global enterprises.Source: TechHQ [...] Date: March 12, 2025Summary: China is accelerating AI development to counter U.S. trade restrictions, rolling out models like Manus and DeepSeek, which rival top U.S. counterparts. The government collaborates with private sectors and universities, reducing dependence on imported technology and establishing a National Computing Power Grid to support AI advancements.Source: VOA News\\n\\nGoogle Co-Founder Larry Page Launches AI Startup Dynatomics\\n\\nDate: March 7, 2025 [...] Date: April 30, 2025Summary: Conservative activist Robby Starbuck has filed a $5 million defamation lawsuit against Meta, alleging that its AI chatbot falsely claimed he participated in the January 6 Capitol riot and was affiliated with QAnon. Despite contacting Meta to correct the misinformation, the AI continued to generate the false claims for months. The lawsuit highlights growing concerns over AI-generated misinformation and its impact on individuals' reputations.Source: The Wall Street\", \"score\": 0.8679453}]\n",
      "=================================\u001b[1m Tool Message \u001b[0m=================================\n",
      "Name: arxiv\n",
      "\n",
      "Published: 2022-08-01\n",
      "Title: The Rise of Quantum Internet Computing\n",
      "Authors: Seng W. Loke\n",
      "Summary: This article highlights quantum Internet computing as referring to\n",
      "distributed quantum computing over the quantum Internet, analogous to\n",
      "(classical) Internet computing involving (classical) distributed computing over\n",
      "the (classical) Internet. Relevant to quantum Internet computing would be areas\n",
      "of study such as quantum protocols for distributed nodes using quantum\n",
      "information for computations, qua\n"
     ]
    }
   ],
   "source": [
    "messages=graph.invoke({\"messages\": \"Tell me some recent news on AI and also give me some papers on quantum computing\"})\n",
    "for m in messages['messages']:\n",
    "    m.pretty_print()"
   ]
  }
 ],
 "metadata": {
  "kernelspec": {
   "display_name": ".venv",
   "language": "python",
   "name": "python3"
  },
  "language_info": {
   "codemirror_mode": {
    "name": "ipython",
    "version": 3
   },
   "file_extension": ".py",
   "mimetype": "text/x-python",
   "name": "python",
   "nbconvert_exporter": "python",
   "pygments_lexer": "ipython3",
   "version": "3.11.2"
  }
 },
 "nbformat": 4,
 "nbformat_minor": 2
}
